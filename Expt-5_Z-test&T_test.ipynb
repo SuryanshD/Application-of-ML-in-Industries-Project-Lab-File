{
 "cells": [
  {
   "cell_type": "markdown",
   "metadata": {},
   "source": [
    "Unpaired t-test"
   ]
  },
  {
   "cell_type": "code",
   "execution_count": 1,
   "metadata": {},
   "outputs": [
    {
     "name": "stderr",
     "output_type": "stream",
     "text": [
      "c:\\Users\\hp\\AppData\\Local\\Programs\\Python\\Python310\\lib\\site-packages\\scipy\\__init__.py:155: UserWarning: A NumPy version >=1.18.5 and <1.25.0 is required for this version of SciPy (detected version 1.26.0\n",
      "  warnings.warn(f\"A NumPy version >={np_minversion} and <{np_maxversion}\"\n"
     ]
    },
    {
     "name": "stdout",
     "output_type": "stream",
     "text": [
      "\n",
      "Unpaired t-test results:\n",
      "T-statistic: -0.5022534348873592\n",
      "P-value: 0.6215779499516552\n",
      "Fail to reject the null hypothesis - There is no significant difference between the means.\n"
     ]
    }
   ],
   "source": [
    "from scipy import stats\n",
    "group1 = [15, 17, 20, 21, 22, 23, 25, 27, 30, 32]\n",
    "group2 = [18, 19, 21, 22, 24, 25, 26, 28, 29, 31]\n",
    "t_statistic, p_value = stats.ttest_ind(group1, group2)\n",
    "print(\"\\nUnpaired t-test results:\")\n",
    "print(\"T-statistic:\", t_statistic)\n",
    "print(\"P-value:\", p_value)\n",
    "alpha = 0.05\n",
    "if p_value < alpha:\n",
    "    print(\"Reject the null hypothesis - There is a significant difference between the means.\")\n",
    "else:\n",
    "    print(\"Fail to reject the null hypothesis - There is no significant difference between the means.\")"
   ]
  },
  {
   "cell_type": "markdown",
   "metadata": {},
   "source": [
    "Paired t-test"
   ]
  },
  {
   "cell_type": "code",
   "execution_count": 2,
   "metadata": {},
   "outputs": [
    {
     "name": "stdout",
     "output_type": "stream",
     "text": [
      "Paired t-test results:\n",
      "T-statistic: -5.715476066494082\n",
      "P-value: 0.004635839417904412\n",
      "Reject the null hypothesis - There is a significant difference between the means.\n"
     ]
    }
   ],
   "source": [
    "from scipy import stats\n",
    "before = [20, 22, 24, 18, 23]\n",
    "after = [25, 27, 30, 20, 26]\n",
    "t_statistic, p_value = stats.ttest_rel(before, after)\n",
    "print(\"Paired t-test results:\")\n",
    "print(\"T-statistic:\", t_statistic)\n",
    "print(\"P-value:\", p_value)\n",
    "alpha = 0.05\n",
    "if p_value < alpha:\n",
    "    print(\"Reject the null hypothesis - There is a significant difference between the means.\")\n",
    "else:\n",
    "    print(\"Fail to reject the null hypothesis - There is no significant difference between the means.\")"
   ]
  },
  {
   "cell_type": "markdown",
   "metadata": {},
   "source": [
    "Paired z-test"
   ]
  },
  {
   "cell_type": "code",
   "execution_count": 1,
   "metadata": {},
   "outputs": [
    {
     "name": "stderr",
     "output_type": "stream",
     "text": [
      "c:\\Users\\hp\\AppData\\Local\\Programs\\Python\\Python310\\lib\\site-packages\\scipy\\__init__.py:155: UserWarning: A NumPy version >=1.18.5 and <1.25.0 is required for this version of SciPy (detected version 1.26.0\n",
      "  warnings.warn(f\"A NumPy version >={np_minversion} and <{np_maxversion}\"\n"
     ]
    },
    {
     "name": "stdout",
     "output_type": "stream",
     "text": [
      "\n",
      "Paired Z-test results:\n",
      "Z-score: 5.715476066494082\n",
      "P-value: 1.093973178711849e-08\n",
      "Reject the null hypothesis - There is a significant difference between the means.\n"
     ]
    }
   ],
   "source": [
    "import numpy as np\n",
    "from scipy.stats import norm\n",
    "\n",
    "before = np.array([20, 22, 24, 18, 23])\n",
    "after = np.array([25, 27, 30, 20, 26])\n",
    "differences = after - before\n",
    "mean_difference = np.mean(differences)\n",
    "stddev_difference = np.std(differences, ddof=1)  \n",
    "sample_size = len(differences)\n",
    "z_score = mean_difference / (stddev_difference / np.sqrt(sample_size))\n",
    "p_value = 2 * (1 - norm.cdf(np.abs(z_score)))  \n",
    "print(\"\\nPaired Z-test results:\")\n",
    "print(\"Z-score:\", z_score)\n",
    "print(\"P-value:\", p_value)\n",
    "alpha = 0.05  \n",
    "if p_value < alpha:\n",
    "    print(\"Reject the null hypothesis - There is a significant difference between the means.\")\n",
    "else:\n",
    "    print(\"Fail to reject the null hypothesis - There is no significant difference between the means.\")\n"
   ]
  },
  {
   "cell_type": "markdown",
   "metadata": {},
   "source": [
    "Unpaired z-test"
   ]
  },
  {
   "cell_type": "code",
   "execution_count": 2,
   "metadata": {},
   "outputs": [
    {
     "name": "stdout",
     "output_type": "stream",
     "text": [
      "Unpaired (Independent) Z-test results:\n",
      "Z-score: -0.5022534348873592\n",
      "P-value: 0.6154892597665431\n",
      "Fail to reject the null hypothesis - There is no significant difference between the means.\n"
     ]
    }
   ],
   "source": [
    "import numpy as np\n",
    "from scipy.stats import norm\n",
    "group1 = np.array([15, 17, 20, 21, 22, 23, 25, 27, 30, 32])\n",
    "group2 = np.array([18, 19, 21, 22, 24, 25, 26, 28, 29, 31])\n",
    "sample1_mean = np.mean(group1)\n",
    "sample2_mean = np.mean(group2)\n",
    "sample1_stddev = np.std(group1, ddof=1)  \n",
    "sample2_stddev = np.std(group2, ddof=1)\n",
    "sample1_size = len(group1)\n",
    "sample2_size = len(group2)\n",
    "pooled_stddev = np.sqrt((sample1_stddev**2 / sample1_size) + (sample2_stddev**2 / sample2_size))\n",
    "z_score = (sample1_mean - sample2_mean) / pooled_stddev\n",
    "p_value = 2 * (1 - norm.cdf(np.abs(z_score)))  \n",
    "print(\"Unpaired (Independent) Z-test results:\")\n",
    "print(\"Z-score:\", z_score)\n",
    "print(\"P-value:\", p_value)\n",
    "alpha = 0.05  \n",
    "if p_value < alpha:\n",
    "    print(\"Reject the null hypothesis - There is a significant difference between the means.\")\n",
    "else:\n",
    "    print(\"Fail to reject the null hypothesis - There is no significant difference between the means.\")\n"
   ]
  }
 ],
 "metadata": {
  "kernelspec": {
   "display_name": "Python 3",
   "language": "python",
   "name": "python3"
  },
  "language_info": {
   "codemirror_mode": {
    "name": "ipython",
    "version": 3
   },
   "file_extension": ".py",
   "mimetype": "text/x-python",
   "name": "python",
   "nbconvert_exporter": "python",
   "pygments_lexer": "ipython3",
   "version": "3.10.2"
  }
 },
 "nbformat": 4,
 "nbformat_minor": 2
}
